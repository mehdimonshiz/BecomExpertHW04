{
  "cells": [
    {
      "cell_type": "markdown",
      "source": [
        "answer 1)\n",
        "\n",
        "1.   dataset has missing value in \"post_index_in_post_list\": NaN\n",
        "2.   dataset has missing value in \"post_token\" : NaN this means that data set has two section which are \"click_post\" and \"load_post_page\"\n",
        "3.   dataset has missing value in \"device_id\" : #NAME?\n",
        "4.   The \"Tokens\" column contains a list-like structure, which might require special handling for certain types of analysis.\n",
        "\n",
        "5.  The \"device_id\" and \"source_event_id\" columns appear to have unique identifiers. We need to verify if any duplicates are present, which could indicate issues like repeated entries or data redundancy."
      ],
      "metadata": {
        "id": "wZNVJ2dBBbnK"
      }
    },
    {
      "cell_type": "code",
      "execution_count": 2,
      "metadata": {
        "colab": {
          "base_uri": "https://localhost:8080/"
        },
        "id": "6hSyo4QOQL-2",
        "outputId": "894db5a4-9db9-4a08-ecf2-e07bcc9e4843"
      },
      "outputs": [
        {
          "output_type": "stream",
          "name": "stdout",
          "text": [
            "0.8732120406105317 %\n"
          ]
        }
      ],
      "source": [
        "import pandas as pd\n",
        "\n",
        "\n",
        "df = pd.read_excel('divar_data.xlsx')\n",
        "df = df[df['device_id'] != '#NAME?']\n",
        "\n",
        "loads = df[df['action']== 'load_post_page']\n",
        "clicks = df[df['action'] == 'click_post']\n",
        "loads_count = loads['tokens'].str.len()/10\n",
        "df['loads_count'] = loads_count\n",
        "#in ke list aval bashe ro bayad lahaz konim - ex : third list of a query has 3 but\n",
        "load_of_first_list = df[(df['action']== 'load_post_page') & (df['post_page_offset']== 0 ) ]\n",
        "load_of_first_list_count =load_of_first_list['tokens'].str.len()\n",
        "\n",
        "# check if loads_count lower than 100 cuz each token lenth is 10\n",
        "lower_than_10 = loads_count[loads_count < 10]\n",
        "# answer2_1\n",
        "percent_query_dark = (lower_than_10.sum()/ loads_count.sum()) *100\n",
        "\n",
        "print(percent_query_dark,\"%\")\n",
        "\n"
      ]
    },
    {
      "cell_type": "code",
      "source": [
        "#answer2_2\n",
        "is_clicked = df.groupby('device_id').sum()\n",
        "is_clicked_index = is_clicked['action'].str.contains(\"click_post\" , na=False)\n",
        "not_clicked_count = 0\n",
        "clicked_count = 0\n",
        "# not_clicked_count = (is_clicked_index == false).sum()\n",
        "for i in is_clicked_index:\n",
        "  if i == False:\n",
        "    not_clicked_count += 1\n",
        "  else: clicked_count += 1\n",
        "print((not_clicked_count / len(loads) )*100 ,\"%\")\n"
      ],
      "metadata": {
        "id": "mgDpVoZf3Bby",
        "collapsed": true,
        "colab": {
          "base_uri": "https://localhost:8080/"
        },
        "outputId": "b5b1e276-ec0b-4f70-97d7-8f2d1b5ea0c4"
      },
      "execution_count": 3,
      "outputs": [
        {
          "output_type": "stream",
          "name": "stdout",
          "text": [
            "1.3092640349137077 %\n"
          ]
        }
      ]
    },
    {
      "cell_type": "code",
      "source": [
        "# answer 3-1\n",
        "import numpy as np\n",
        "is_clicked['post_token_count'] =  is_clicked['post_token'].str.len() / 8\n",
        "is_clicked['click_percentage'] =  np.where(is_clicked['loads_count'] != 0 , (is_clicked['post_token_count'] / is_clicked['loads_count']) * 100 , np.nan)\n",
        "is_clicked.head()"
      ],
      "metadata": {
        "colab": {
          "base_uri": "https://localhost:8080/",
          "height": 570
        },
        "id": "BY8WAtC4RUI2",
        "outputId": "3acb1711-7a94-4401-b9ac-78ddcd229926"
      },
      "execution_count": 6,
      "outputs": [
        {
          "output_type": "execute_result",
          "data": {
            "text/plain": [
              "                                                                   action  \\\n",
              "device_id                                                                   \n",
              "-0CO6Hc_QiqH4T6IRnAkMw                           click_postload_post_page   \n",
              "-0IGwculQbu66z8q_Vm9MA  click_postclick_postclick_postclick_postclick_...   \n",
              "-1wIhljjS_yhOisAOhIdNA  load_post_pageload_post_pageclick_postclick_po...   \n",
              "-2HNBT8SRiC3klN90eGvNQ  click_postclick_postclick_postclick_postclick_...   \n",
              "-2Hh978WRIuDcnICSpbzjg                     click_postclick_postclick_post   \n",
              "\n",
              "                             created_at  \\\n",
              "device_id                                 \n",
              "-0CO6Hc_QiqH4T6IRnAkMw    3219094687858   \n",
              "-0IGwculQbu66z8q_Vm9MA  122325464540763   \n",
              "-1wIhljjS_yhOisAOhIdNA   14485908194175   \n",
              "-2HNBT8SRiC3klN90eGvNQ   32190924754915   \n",
              "-2Hh978WRIuDcnICSpbzjg    4828641150597   \n",
              "\n",
              "                                                          source_event_id  \\\n",
              "device_id                                                                   \n",
              "-0CO6Hc_QiqH4T6IRnAkMw  0835703f-bbd7-415c-892a-f612661ea1650835703f-b...   \n",
              "-0IGwculQbu66z8q_Vm9MA  f0266c88-62fd-43de-b39c-fa0c0db285cbf7000f54-2...   \n",
              "-1wIhljjS_yhOisAOhIdNA  ab319d84-421e-4b7f-8887-8d3529ae42fbab319d84-4...   \n",
              "-2HNBT8SRiC3klN90eGvNQ  d759e99f-2ec0-4024-9f70-674ce152278bd759e99f-2...   \n",
              "-2Hh978WRIuDcnICSpbzjg  742253a6-734c-4f65-9fec-2a03845b86af742253a6-7...   \n",
              "\n",
              "                        post_page_offset  \\\n",
              "device_id                                  \n",
              "-0CO6Hc_QiqH4T6IRnAkMw               0.0   \n",
              "-0IGwculQbu66z8q_Vm9MA               0.0   \n",
              "-1wIhljjS_yhOisAOhIdNA              10.0   \n",
              "-2HNBT8SRiC3klN90eGvNQ               6.0   \n",
              "-2Hh978WRIuDcnICSpbzjg               0.0   \n",
              "\n",
              "                                                                   tokens  \\\n",
              "device_id                                                                   \n",
              "-0CO6Hc_QiqH4T6IRnAkMw  [wXvvHbMd, wXvrWNJ2, wXvvmeT9, wXvno4aJ, wXvLX...   \n",
              "-0IGwculQbu66z8q_Vm9MA                                                  0   \n",
              "-1wIhljjS_yhOisAOhIdNA  [wXvrXnXD, wXv70f3R, wXvLn2Ez, wXvH3a0-, wXv72...   \n",
              "-2HNBT8SRiC3klN90eGvNQ  [wXu3e23w, wXuPNC2M, wXu_8PZL, wXurURCV, wXurT...   \n",
              "-2Hh978WRIuDcnICSpbzjg                                                  0   \n",
              "\n",
              "                        post_index_in_post_list  \\\n",
              "device_id                                         \n",
              "-0CO6Hc_QiqH4T6IRnAkMw                      1.0   \n",
              "-0IGwculQbu66z8q_Vm9MA                  19985.0   \n",
              "-1wIhljjS_yhOisAOhIdNA                     70.0   \n",
              "-2HNBT8SRiC3klN90eGvNQ                    341.0   \n",
              "-2Hh978WRIuDcnICSpbzjg                     54.0   \n",
              "\n",
              "                                                               post_token  \\\n",
              "device_id                                                                   \n",
              "-0CO6Hc_QiqH4T6IRnAkMw                                           wXvvHbMd   \n",
              "-0IGwculQbu66z8q_Vm9MA  wXsPCshJwXjb9jlDwXhn71ikwXY3upM6wXvvEtkGwXcfWj...   \n",
              "-1wIhljjS_yhOisAOhIdNA                   wXvjy3zbwXv3oKLDwXqPS49rwXvTpU4l   \n",
              "-2HNBT8SRiC3klN90eGvNQ  wXvX3j8-wXu3uxSdwXvHz_VZwXvjTNuMwXvbBa29wXvXom...   \n",
              "-2Hh978WRIuDcnICSpbzjg                           wXN7ONzIwXq7N2RrwXvvlsoV   \n",
              "\n",
              "                        loads_count  post_token_count  click_percentage  \n",
              "device_id                                                                \n",
              "-0CO6Hc_QiqH4T6IRnAkMw         24.0               1.0          4.166667  \n",
              "-0IGwculQbu66z8q_Vm9MA          0.0              76.0               NaN  \n",
              "-1wIhljjS_yhOisAOhIdNA        120.0               4.0          3.333333  \n",
              "-2HNBT8SRiC3klN90eGvNQ         96.0              16.0         16.666667  \n",
              "-2Hh978WRIuDcnICSpbzjg          0.0               3.0               NaN  "
            ],
            "text/html": [
              "\n",
              "  <div id=\"df-9936e558-8623-4411-a1f5-1a6c33f11ee1\" class=\"colab-df-container\">\n",
              "    <div>\n",
              "<style scoped>\n",
              "    .dataframe tbody tr th:only-of-type {\n",
              "        vertical-align: middle;\n",
              "    }\n",
              "\n",
              "    .dataframe tbody tr th {\n",
              "        vertical-align: top;\n",
              "    }\n",
              "\n",
              "    .dataframe thead th {\n",
              "        text-align: right;\n",
              "    }\n",
              "</style>\n",
              "<table border=\"1\" class=\"dataframe\">\n",
              "  <thead>\n",
              "    <tr style=\"text-align: right;\">\n",
              "      <th></th>\n",
              "      <th>action</th>\n",
              "      <th>created_at</th>\n",
              "      <th>source_event_id</th>\n",
              "      <th>post_page_offset</th>\n",
              "      <th>tokens</th>\n",
              "      <th>post_index_in_post_list</th>\n",
              "      <th>post_token</th>\n",
              "      <th>loads_count</th>\n",
              "      <th>post_token_count</th>\n",
              "      <th>click_percentage</th>\n",
              "    </tr>\n",
              "    <tr>\n",
              "      <th>device_id</th>\n",
              "      <th></th>\n",
              "      <th></th>\n",
              "      <th></th>\n",
              "      <th></th>\n",
              "      <th></th>\n",
              "      <th></th>\n",
              "      <th></th>\n",
              "      <th></th>\n",
              "      <th></th>\n",
              "      <th></th>\n",
              "    </tr>\n",
              "  </thead>\n",
              "  <tbody>\n",
              "    <tr>\n",
              "      <th>-0CO6Hc_QiqH4T6IRnAkMw</th>\n",
              "      <td>click_postload_post_page</td>\n",
              "      <td>3219094687858</td>\n",
              "      <td>0835703f-bbd7-415c-892a-f612661ea1650835703f-b...</td>\n",
              "      <td>0.0</td>\n",
              "      <td>[wXvvHbMd, wXvrWNJ2, wXvvmeT9, wXvno4aJ, wXvLX...</td>\n",
              "      <td>1.0</td>\n",
              "      <td>wXvvHbMd</td>\n",
              "      <td>24.0</td>\n",
              "      <td>1.0</td>\n",
              "      <td>4.166667</td>\n",
              "    </tr>\n",
              "    <tr>\n",
              "      <th>-0IGwculQbu66z8q_Vm9MA</th>\n",
              "      <td>click_postclick_postclick_postclick_postclick_...</td>\n",
              "      <td>122325464540763</td>\n",
              "      <td>f0266c88-62fd-43de-b39c-fa0c0db285cbf7000f54-2...</td>\n",
              "      <td>0.0</td>\n",
              "      <td>0</td>\n",
              "      <td>19985.0</td>\n",
              "      <td>wXsPCshJwXjb9jlDwXhn71ikwXY3upM6wXvvEtkGwXcfWj...</td>\n",
              "      <td>0.0</td>\n",
              "      <td>76.0</td>\n",
              "      <td>NaN</td>\n",
              "    </tr>\n",
              "    <tr>\n",
              "      <th>-1wIhljjS_yhOisAOhIdNA</th>\n",
              "      <td>load_post_pageload_post_pageclick_postclick_po...</td>\n",
              "      <td>14485908194175</td>\n",
              "      <td>ab319d84-421e-4b7f-8887-8d3529ae42fbab319d84-4...</td>\n",
              "      <td>10.0</td>\n",
              "      <td>[wXvrXnXD, wXv70f3R, wXvLn2Ez, wXvH3a0-, wXv72...</td>\n",
              "      <td>70.0</td>\n",
              "      <td>wXvjy3zbwXv3oKLDwXqPS49rwXvTpU4l</td>\n",
              "      <td>120.0</td>\n",
              "      <td>4.0</td>\n",
              "      <td>3.333333</td>\n",
              "    </tr>\n",
              "    <tr>\n",
              "      <th>-2HNBT8SRiC3klN90eGvNQ</th>\n",
              "      <td>click_postclick_postclick_postclick_postclick_...</td>\n",
              "      <td>32190924754915</td>\n",
              "      <td>d759e99f-2ec0-4024-9f70-674ce152278bd759e99f-2...</td>\n",
              "      <td>6.0</td>\n",
              "      <td>[wXu3e23w, wXuPNC2M, wXu_8PZL, wXurURCV, wXurT...</td>\n",
              "      <td>341.0</td>\n",
              "      <td>wXvX3j8-wXu3uxSdwXvHz_VZwXvjTNuMwXvbBa29wXvXom...</td>\n",
              "      <td>96.0</td>\n",
              "      <td>16.0</td>\n",
              "      <td>16.666667</td>\n",
              "    </tr>\n",
              "    <tr>\n",
              "      <th>-2Hh978WRIuDcnICSpbzjg</th>\n",
              "      <td>click_postclick_postclick_post</td>\n",
              "      <td>4828641150597</td>\n",
              "      <td>742253a6-734c-4f65-9fec-2a03845b86af742253a6-7...</td>\n",
              "      <td>0.0</td>\n",
              "      <td>0</td>\n",
              "      <td>54.0</td>\n",
              "      <td>wXN7ONzIwXq7N2RrwXvvlsoV</td>\n",
              "      <td>0.0</td>\n",
              "      <td>3.0</td>\n",
              "      <td>NaN</td>\n",
              "    </tr>\n",
              "  </tbody>\n",
              "</table>\n",
              "</div>\n",
              "    <div class=\"colab-df-buttons\">\n",
              "\n",
              "  <div class=\"colab-df-container\">\n",
              "    <button class=\"colab-df-convert\" onclick=\"convertToInteractive('df-9936e558-8623-4411-a1f5-1a6c33f11ee1')\"\n",
              "            title=\"Convert this dataframe to an interactive table.\"\n",
              "            style=\"display:none;\">\n",
              "\n",
              "  <svg xmlns=\"http://www.w3.org/2000/svg\" height=\"24px\" viewBox=\"0 -960 960 960\">\n",
              "    <path d=\"M120-120v-720h720v720H120Zm60-500h600v-160H180v160Zm220 220h160v-160H400v160Zm0 220h160v-160H400v160ZM180-400h160v-160H180v160Zm440 0h160v-160H620v160ZM180-180h160v-160H180v160Zm440 0h160v-160H620v160Z\"/>\n",
              "  </svg>\n",
              "    </button>\n",
              "\n",
              "  <style>\n",
              "    .colab-df-container {\n",
              "      display:flex;\n",
              "      gap: 12px;\n",
              "    }\n",
              "\n",
              "    .colab-df-convert {\n",
              "      background-color: #E8F0FE;\n",
              "      border: none;\n",
              "      border-radius: 50%;\n",
              "      cursor: pointer;\n",
              "      display: none;\n",
              "      fill: #1967D2;\n",
              "      height: 32px;\n",
              "      padding: 0 0 0 0;\n",
              "      width: 32px;\n",
              "    }\n",
              "\n",
              "    .colab-df-convert:hover {\n",
              "      background-color: #E2EBFA;\n",
              "      box-shadow: 0px 1px 2px rgba(60, 64, 67, 0.3), 0px 1px 3px 1px rgba(60, 64, 67, 0.15);\n",
              "      fill: #174EA6;\n",
              "    }\n",
              "\n",
              "    .colab-df-buttons div {\n",
              "      margin-bottom: 4px;\n",
              "    }\n",
              "\n",
              "    [theme=dark] .colab-df-convert {\n",
              "      background-color: #3B4455;\n",
              "      fill: #D2E3FC;\n",
              "    }\n",
              "\n",
              "    [theme=dark] .colab-df-convert:hover {\n",
              "      background-color: #434B5C;\n",
              "      box-shadow: 0px 1px 3px 1px rgba(0, 0, 0, 0.15);\n",
              "      filter: drop-shadow(0px 1px 2px rgba(0, 0, 0, 0.3));\n",
              "      fill: #FFFFFF;\n",
              "    }\n",
              "  </style>\n",
              "\n",
              "    <script>\n",
              "      const buttonEl =\n",
              "        document.querySelector('#df-9936e558-8623-4411-a1f5-1a6c33f11ee1 button.colab-df-convert');\n",
              "      buttonEl.style.display =\n",
              "        google.colab.kernel.accessAllowed ? 'block' : 'none';\n",
              "\n",
              "      async function convertToInteractive(key) {\n",
              "        const element = document.querySelector('#df-9936e558-8623-4411-a1f5-1a6c33f11ee1');\n",
              "        const dataTable =\n",
              "          await google.colab.kernel.invokeFunction('convertToInteractive',\n",
              "                                                    [key], {});\n",
              "        if (!dataTable) return;\n",
              "\n",
              "        const docLinkHtml = 'Like what you see? Visit the ' +\n",
              "          '<a target=\"_blank\" href=https://colab.research.google.com/notebooks/data_table.ipynb>data table notebook</a>'\n",
              "          + ' to learn more about interactive tables.';\n",
              "        element.innerHTML = '';\n",
              "        dataTable['output_type'] = 'display_data';\n",
              "        await google.colab.output.renderOutput(dataTable, element);\n",
              "        const docLink = document.createElement('div');\n",
              "        docLink.innerHTML = docLinkHtml;\n",
              "        element.appendChild(docLink);\n",
              "      }\n",
              "    </script>\n",
              "  </div>\n",
              "\n",
              "\n",
              "<div id=\"df-33c8c42c-512a-4753-bdda-3faf051d2dcc\">\n",
              "  <button class=\"colab-df-quickchart\" onclick=\"quickchart('df-33c8c42c-512a-4753-bdda-3faf051d2dcc')\"\n",
              "            title=\"Suggest charts\"\n",
              "            style=\"display:none;\">\n",
              "\n",
              "<svg xmlns=\"http://www.w3.org/2000/svg\" height=\"24px\"viewBox=\"0 0 24 24\"\n",
              "     width=\"24px\">\n",
              "    <g>\n",
              "        <path d=\"M19 3H5c-1.1 0-2 .9-2 2v14c0 1.1.9 2 2 2h14c1.1 0 2-.9 2-2V5c0-1.1-.9-2-2-2zM9 17H7v-7h2v7zm4 0h-2V7h2v10zm4 0h-2v-4h2v4z\"/>\n",
              "    </g>\n",
              "</svg>\n",
              "  </button>\n",
              "\n",
              "<style>\n",
              "  .colab-df-quickchart {\n",
              "      --bg-color: #E8F0FE;\n",
              "      --fill-color: #1967D2;\n",
              "      --hover-bg-color: #E2EBFA;\n",
              "      --hover-fill-color: #174EA6;\n",
              "      --disabled-fill-color: #AAA;\n",
              "      --disabled-bg-color: #DDD;\n",
              "  }\n",
              "\n",
              "  [theme=dark] .colab-df-quickchart {\n",
              "      --bg-color: #3B4455;\n",
              "      --fill-color: #D2E3FC;\n",
              "      --hover-bg-color: #434B5C;\n",
              "      --hover-fill-color: #FFFFFF;\n",
              "      --disabled-bg-color: #3B4455;\n",
              "      --disabled-fill-color: #666;\n",
              "  }\n",
              "\n",
              "  .colab-df-quickchart {\n",
              "    background-color: var(--bg-color);\n",
              "    border: none;\n",
              "    border-radius: 50%;\n",
              "    cursor: pointer;\n",
              "    display: none;\n",
              "    fill: var(--fill-color);\n",
              "    height: 32px;\n",
              "    padding: 0;\n",
              "    width: 32px;\n",
              "  }\n",
              "\n",
              "  .colab-df-quickchart:hover {\n",
              "    background-color: var(--hover-bg-color);\n",
              "    box-shadow: 0 1px 2px rgba(60, 64, 67, 0.3), 0 1px 3px 1px rgba(60, 64, 67, 0.15);\n",
              "    fill: var(--button-hover-fill-color);\n",
              "  }\n",
              "\n",
              "  .colab-df-quickchart-complete:disabled,\n",
              "  .colab-df-quickchart-complete:disabled:hover {\n",
              "    background-color: var(--disabled-bg-color);\n",
              "    fill: var(--disabled-fill-color);\n",
              "    box-shadow: none;\n",
              "  }\n",
              "\n",
              "  .colab-df-spinner {\n",
              "    border: 2px solid var(--fill-color);\n",
              "    border-color: transparent;\n",
              "    border-bottom-color: var(--fill-color);\n",
              "    animation:\n",
              "      spin 1s steps(1) infinite;\n",
              "  }\n",
              "\n",
              "  @keyframes spin {\n",
              "    0% {\n",
              "      border-color: transparent;\n",
              "      border-bottom-color: var(--fill-color);\n",
              "      border-left-color: var(--fill-color);\n",
              "    }\n",
              "    20% {\n",
              "      border-color: transparent;\n",
              "      border-left-color: var(--fill-color);\n",
              "      border-top-color: var(--fill-color);\n",
              "    }\n",
              "    30% {\n",
              "      border-color: transparent;\n",
              "      border-left-color: var(--fill-color);\n",
              "      border-top-color: var(--fill-color);\n",
              "      border-right-color: var(--fill-color);\n",
              "    }\n",
              "    40% {\n",
              "      border-color: transparent;\n",
              "      border-right-color: var(--fill-color);\n",
              "      border-top-color: var(--fill-color);\n",
              "    }\n",
              "    60% {\n",
              "      border-color: transparent;\n",
              "      border-right-color: var(--fill-color);\n",
              "    }\n",
              "    80% {\n",
              "      border-color: transparent;\n",
              "      border-right-color: var(--fill-color);\n",
              "      border-bottom-color: var(--fill-color);\n",
              "    }\n",
              "    90% {\n",
              "      border-color: transparent;\n",
              "      border-bottom-color: var(--fill-color);\n",
              "    }\n",
              "  }\n",
              "</style>\n",
              "\n",
              "  <script>\n",
              "    async function quickchart(key) {\n",
              "      const quickchartButtonEl =\n",
              "        document.querySelector('#' + key + ' button');\n",
              "      quickchartButtonEl.disabled = true;  // To prevent multiple clicks.\n",
              "      quickchartButtonEl.classList.add('colab-df-spinner');\n",
              "      try {\n",
              "        const charts = await google.colab.kernel.invokeFunction(\n",
              "            'suggestCharts', [key], {});\n",
              "      } catch (error) {\n",
              "        console.error('Error during call to suggestCharts:', error);\n",
              "      }\n",
              "      quickchartButtonEl.classList.remove('colab-df-spinner');\n",
              "      quickchartButtonEl.classList.add('colab-df-quickchart-complete');\n",
              "    }\n",
              "    (() => {\n",
              "      let quickchartButtonEl =\n",
              "        document.querySelector('#df-33c8c42c-512a-4753-bdda-3faf051d2dcc button');\n",
              "      quickchartButtonEl.style.display =\n",
              "        google.colab.kernel.accessAllowed ? 'block' : 'none';\n",
              "    })();\n",
              "  </script>\n",
              "</div>\n",
              "\n",
              "    </div>\n",
              "  </div>\n"
            ],
            "application/vnd.google.colaboratory.intrinsic+json": {
              "type": "dataframe",
              "variable_name": "is_clicked",
              "summary": "{\n  \"name\": \"is_clicked\",\n  \"rows\": 5012,\n  \"fields\": [\n    {\n      \"column\": \"device_id\",\n      \"properties\": {\n        \"dtype\": \"string\",\n        \"num_unique_values\": 5012,\n        \"samples\": [\n          \"yE6uu_LlTim1SjFx2dcAuQ\",\n          \"CNURUWiWRNisnUQhxTP9Ww\",\n          \"c4Y2S86YT6aK1Z_QByrBTQ\"\n        ],\n        \"semantic_type\": \"\",\n        \"description\": \"\"\n      }\n    },\n    {\n      \"column\": \"action\",\n      \"properties\": {\n        \"dtype\": \"category\",\n        \"num_unique_values\": 2257,\n        \"samples\": [\n          \"load_post_pageclick_postclick_postclick_postclick_postclick_postclick_postclick_postclick_postclick_postclick_postclick_postclick_postclick_postclick_postload_post_pageclick_postclick_postload_post_pageclick_postclick_postload_post_pageload_post_pageclick_postclick_postclick_postload_post_pageload_post_pageclick_post\",\n          \"load_post_pageload_post_pageclick_postclick_postclick_postload_post_pageload_post_pageload_post_pageload_post_pageload_post_pageload_post_pageload_post_pageload_post_pageclick_postclick_postload_post_pageload_post_pageload_post_pageload_post_pageload_post_page\",\n          \"load_post_pageload_post_pageclick_postload_post_pageload_post_pageload_post_pageload_post_pageclick_postload_post_page\"\n        ],\n        \"semantic_type\": \"\",\n        \"description\": \"\"\n      }\n    },\n    {\n      \"column\": \"created_at\",\n      \"properties\": {\n        \"dtype\": \"number\",\n        \"std\": 43128019793478,\n        \"min\": 1609505253727,\n        \"max\": 471596883996492,\n        \"num_unique_values\": 5012,\n        \"samples\": [\n          3219087692291,\n          56334059010492,\n          14485908552886\n        ],\n        \"semantic_type\": \"\",\n        \"description\": \"\"\n      }\n    },\n    {\n      \"column\": \"source_event_id\",\n      \"properties\": {\n        \"dtype\": \"string\",\n        \"num_unique_values\": 5012,\n        \"samples\": [\n          \"057d3483-90f8-4d77-9491-b2d7c7ed4c24057d3483-90f8-4d77-9491-b2d7c7ed4c24\",\n          \"6b6e702b-c25e-4825-af06-a121cb7c13ea4c54f181-34ec-400f-a04c-08a168113216a3d03bdc-b654-448e-bb14-a8aa8389967daf26fddb-e71b-41af-9391-d71e3b2fb78eaf26fddb-e71b-41af-9391-d71e3b2fb78ea3d03bdc-b654-448e-bb14-a8aa8389967d4c54f181-34ec-400f-a04c-08a1681132164c54f181-34ec-400f-a04c-08a1681132164c54f181-34ec-400f-a04c-08a1681132164c54f181-34ec-400f-a04c-08a1681132164c54f181-34ec-400f-a04c-08a1681132166b6e702b-c25e-4825-af06-a121cb7c13ea6b6e702b-c25e-4825-af06-a121cb7c13eaaf26fddb-e71b-41af-9391-d71e3b2fb78e4c54f181-34ec-400f-a04c-08a1681132166b6e702b-c25e-4825-af06-a121cb7c13ea4c54f181-34ec-400f-a04c-08a168113216a3d03bdc-b654-448e-bb14-a8aa8389967daf26fddb-e71b-41af-9391-d71e3b2fb78ea3d03bdc-b654-448e-bb14-a8aa8389967da3d03bdc-b654-448e-bb14-a8aa8389967daf26fddb-e71b-41af-9391-d71e3b2fb78ea3d03bdc-b654-448e-bb14-a8aa8389967daf26fddb-e71b-41af-9391-d71e3b2fb78e4c54f181-34ec-400f-a04c-08a1681132166b6e702b-c25e-4825-af06-a121cb7c13ea6b6e702b-c25e-4825-af06-a121cb7c13eaaf26fddb-e71b-41af-9391-d71e3b2fb78ea3d03bdc-b654-448e-bb14-a8aa8389967d6b6e702b-c25e-4825-af06-a121cb7c13eaaf26fddb-e71b-41af-9391-d71e3b2fb78e4c54f181-34ec-400f-a04c-08a168113216af26fddb-e71b-41af-9391-d71e3b2fb78eaf26fddb-e71b-41af-9391-d71e3b2fb78ea3d03bdc-b654-448e-bb14-a8aa8389967d\",\n          \"773323f9-cda6-4ca7-8371-c5b17f4922b91655da67-22ac-4714-8eef-bb32bfe2fa231655da67-22ac-4714-8eef-bb32bfe2fa23736d6bbb-69f5-45b7-a13c-8024ab5488c5ce0f3b17-0963-4c1b-ab5f-42cc322a8024773323f9-cda6-4ca7-8371-c5b17f4922b9bb4bb28a-4422-4689-b19e-bc8bc0ab6802773323f9-cda6-4ca7-8371-c5b17f4922b91655da67-22ac-4714-8eef-bb32bfe2fa23\"\n        ],\n        \"semantic_type\": \"\",\n        \"description\": \"\"\n      }\n    },\n    {\n      \"column\": \"post_page_offset\",\n      \"properties\": {\n        \"dtype\": \"number\",\n        \"std\": 345.0740479442625,\n        \"min\": 0.0,\n        \"max\": 7916.0,\n        \"num_unique_values\": 376,\n        \"samples\": [\n          573.0,\n          3723.0,\n          5074.0\n        ],\n        \"semantic_type\": \"\",\n        \"description\": \"\"\n      }\n    },\n    {\n      \"column\": \"tokens\",\n      \"properties\": {\n        \"dtype\": \"string\",\n        \"num_unique_values\": 3022,\n        \"samples\": [\n          \"[wXPfUT39, wXqPRJv2, wXq7gavO, wXq7gkrH, wXqTQDYg, wXqTQSVF, wXp_fLEu, wXpjvNIZ, wXpjPIZo, wXpL_C01, wXpv-VSc, wXpne8-T, wXpnOcbw, wXQ_09Yt, wXpfe9Ic, wXpHupQk, wXpHuQ3R, wXp3NeXC, wXp39BSD, wXpv9QFl, wXprNPTc, wXpT9gkv, wXpT9gjU, wXpTNaof][wXpv3V1c, wXpn3MfX, wXpj3gkv, wXpfXjw9, wXpPnwK3, wXpP3RFH, wXpTXclm, wXpHHpRW, wXp7GQuM, wXpnW7AJ, wXp_lQAt, wXpnl1A5, wXp7jqPS, wXprBbYw, wXpzwnj-, wXo7un-u, wXo3Ozwg, wXonezfK, wXo79Qjf, wXozdyn4, wXozteXj, wXovNhL8, wXojNxDx, wXoTdRxe][wXZf8MXa, wX1WAzP1, wXIj32VL, wXsXFtOG, wXsPV9Uy, wXsLVgEM, wXsH1X0c, wXmTvP88, wXsH1CCD, wXs_EkBu, wXs_Ur6Q, wXszU3ng, wXsjUeGk, wXsj0mRG, wXsjkBe5, wXsjkKff, wX0dxJme, wXsfEkKL, wXsfEGtC, wXsnjsiY, wXsb0VQ9, wXsXke5T, wXsTETOq, wXsP0sf0][wXszqXpd, wXsfaX9B, wXsnot4V, wXsn4kTW, wXsj48yC, wXsLYmmv, wXsH4g0r, wXs_WIPN, wXUXJ-lC, wXs3GaxJ, wXs3WpFQ, wXsrW33e, wXsr2E3h, wXsj2p5n, wXsDGANg, wXs7F9wk, wXs310cO, wXkvH9vJ, wXsr1Ims, wXsrVXVP, wXsfVuXu, wXsfFYbu, wXPTUO-G, wXsz0KW6][wXuj_5t9, wXuDe01g, wXuTvW59, wXuL_Koa, wXuH_ZNa, wXuXOIwG, wXuL-Qts, wXuDe0IF, wXuvEODs, wXuPzshv, wXuHT_Hj, wXpv4E-G, wXu7R5FW, wXu7xKI-, wXuPhtla, wXtrfVy1, wXYfswjX, wXtvs8sj, wXtL89CF, wXtL8Ncq, wXsXweXQ, wXt37BkC, wXtnbrb9, wXQfXET7][wXvHbNqU, wXvDrof9, wXv_aXHk, wXvDrSIa, wXv_apaj, wXv_aM0Q, wXv7aWTK, wXv3aQrM, wXv3KRYQ, wXv3ad39, wXv36jSC, wXv3aTXo, wXv3abxM, wXv36c3v, wXv3KSNS, wXvzakA6, wXvv6ncD, wXgbj-dT, wXvvqx_B, wXvnq75t, wXvjqznZ, wXvjqXhg, wXvjKVvI, wXvfqcHV][wXoHjIuV, wXoDIbOW, wXnzFmSL, wXofnm9Y, wXo719F_, wXo32BHM, wXoXWZsm, wXoLmunB, wXoD1w_H, wXoLm2tM, wXoLGk0E, wXLnWbMK, QXsF7HkB, wXofFd4K, wXofFMf7, wXoLFbUJ, wXo3E0k4, wXovUQnp, wXonEDzR, wXVjaq4J, wXofEQFu, wXoLUlzi, wXNxPEAZ, wXoD0dVc][wXp7ZxNo, wXkbT0eh, wXTngqoS, wXpz5JfK, wXpvZPvv, wXprZUgr, wXprJE0V, wXpfp6Cr, wXpb52bF, wXNHend1, wXpHZSSI, gX37By2k, wXp7o3MU, wXp7IW76, wXpv4Ho4, wXprogm0, QXl3-TdX, wXpnoCMF, wXpf4V1u, wXpbY2RS, wXpTo28i, wXNnOBBz, wXnfSTIq, wXp_HhFP][wXtHLdbM, wXt3qEVN, wXTHx9hN, wXt7af3D, wXt76YHF, wXtrqX8L, wXtTKC_u, wXtP6f_f, wXtL6cqK, wXtnJiIz, wXtDpwLQ, wXtfoBQ2, wXtHY4aZ, wXt73x1G, wXtDHF6r, wXGJ61Xd, wXtvWM5J, wXtPQDeT, wXs392Q4, wXs_JtsD, wXsDKYG9, wXsLMCsw, wXsTLtul, wXsv5e-Q][wXvLno1F, wXvj18j-, wXvj047P, wXvbVqUb, wXvPChrT, wXvHCln7, wXvfw5kp, wXuHdf7E, wXurqExN, wXtb3GUX, wXoz3oJZ, wXhftghq, wXsDbF44, wXQLA4wt, wXsb6Blk, wXUP33KU, wXr_1-pw, wXrLQWhY, wXqXRLvy, wXS5lCWT, wXqvg4nO, wXXO847v, wXp_2141, wXoLsKdE][wXm_9weK, wXm79v63, wXm7NgJG, wXm79dRm, wXmzdx2J, wXmztHQe, wXdjN4QZ, wXmndbSu, wXmjNBFN, wXmbc1m_, wXmTcr3y, wXmvbrqQ, wXmvFRkj, wXmb1X6l, wXmbFcej, wXTrpsjn, wXmrkxbk, wXmL0PTr, wXmD0SxO, wXmzjO5m, wXmbjM4B, wXmXDIf1, wXmPTtqv, wXm3S4gv][wXsPEHEC, wXsPEA9p, wXsH0VCz, wXs_DEEy, wXsrj6U4, wXsjDM-d, wXsvysDQ, wXsnS_KL, wXsriFhb, wXsHSJqh, wXsXgvCl, wXrvn2be, wXrnEAgb, wXrjUcD0, wXrvS_P9, wXrnSJs0, wXrTCYeN, wXXPMdE_, wXr7ggh0, wXqPvg2R, wXYrqQij, wXq7f-R5, wXqLeDSP, wXav__FE][wXX7uP9l, wXW3AGc_, wXTDcyfX, wXSDDHO3, wXS7Avgl, wXS7gk0w, wXR_x7Ek, wXQzP_P2, wXPfqZ7V, wXJr06sK, wXfS-hbX][wXvHJ_31, wXvPE8V7, wXvPxSBl, wXuzOAG1, wXt_0Npg, wXsfhGAq, wXsXhpp9, wXrXnNjS, wXqrecJw, wXDzjmEM, wXoH9qBP, wXofpAow, wXoP5gQS, wXoPFwMq, wXmfw4Bp, wXlXOgVC, wXjjkRmA, wXh7LMMi, wXhn8aJR, wXhfLcts, wXhDLRIF, wXgb6qz-, wXgbkvVw, wXenh5f_][wXoLXYrK, wXoDV5gt, wXo_1q_8, wXorlbAH, wXon1NuC, wXoX0wZW, wXo3TxFb, wXo_iqIB, wXoHiRN8, wXoHRPJ6, wXnTq8yp, wXnP6g_P, wXnfprdB, wXnHIZeM, wXnznRnh, wXnjn3an, wXnLWUCh, wXnvFQEq, wXnb1PgC, wXnHV9Rp, wXn7Uyvi, wXnjEVRV, wXnXkaZ6, wXV7MAtk][wXgrJu1d, wXUvKKP9, wXeDmQ8j, wXcDNcjt, wXcLrnXv, wXb7TLYB, wXbDwmPK, wXavOuQY, wXa_09st, wXZDhHeB, wXZPgxU0, wXY3ffir, wXWPwZMg, wXYH46Hh, wXXjWETR, wXW_iuTB, wXUTN1cq, wXUr65EA, wXUPYQWm, wXTHNeSm, wXTLk_Zz, wXRLdykj, wXQD45de, wXPP_5eP][wXv7CTkI, wXvzyNBP, wXvzTxJQ, wXvzjTsJ, wXvnzpiM, wXvfzmEO, wXvrBUVl, wXmDPEUb, wXvTTrTq, wXt7PoXE, wXv_BdNK, wXvLz2HB, wXvPymu4, wXvHjEe1, wXvHTE-2, wXv7i8UM, wXvriaPq, wXvrygrq, wXvvgR2B, wXvDRT64, wXvHx4IK, wXvLhK_t, wXvTycHJ, wXvThaAk][wXszqXpd, wXsfaX9B, wXsnot4V, wXsn4kTW, wXsj48yC, wXsLYmmv, wXsH4g0r, wXs_WIPN, wXUXJ-lC, wXs3GaxJ, wXs3WpFQ, wXsrW33e, wXsr2E3h, wXsj2p5n, wXsDGANg, wXs7F9wk, wXs310cO, wXkvH9vJ, wXsr1Ims, wXsrVXVP, wXsfVuXu, wXsfFYbu, wXPTUO-G, wXsz0KW6][wXszqXpd, wXsfaX9B, wXsnot4V, wXsn4kTW, wXsj48yC, wXsLYmmv, wXsH4g0r, wXs_WIPN, wXUXJ-lC, wXs3GaxJ, wXs3WpFQ, wXsrW33e, wXsr2E3h, wXsj2p5n, wXsDGANg, wXs7F9wk, wXs310cO, wXkvH9vJ, wXsr1Ims, wXsrVXVP, wXsfVuXu, wXsfFYbu, wXPTUO-G, wXsz0KW6][wXuj_5t9, wXuDe01g, wXuTvW59, wXuL_Koa, wXuH_ZNa, wXuXOIwG, wXuL-Qts, wXuDe0IF, wXuvEODs, wXuPzshv, wXuHT_Hj, wXpv4E-G, wXu7R5FW, wXu7xKI-, wXuPhtla, wXtrfVy1, wXYfswjX, wXtvs8sj, wXtL89CF, wXtL8Ncq, wXsXweXQ, wXt37BkC, wXtnbrb9, wXQfXET7][wXproWf1, wXpLZVCY, wXpDJ-5s, wXpvYTwA, wXpjInux, wXp3XdEV, wXInKYVB, wXpbGhrX, wXp7UzOG, wXortuVQ, wXDzJ0wy, wXo7tSsi, wXnzYfSB, wXoL9gYx, wXofs5Kq, wXofMMdA, wXoHsI6F, wXobqAyj, wXoTquLm, wXo7ZoT-, wXinMx83, wXobYATg, wXd7LshQ, wXoPnfGQ][wXoL8lgu, wXoLIqsu, wXofTJqV, wXgX8Zax, wXLL18_j, wXmHPUDl, wXmn9DaE, wXmTkqdX, wXmzDVAl, wXmzyStW, wXm3A1Nn, wXlr6eBP, wXl3gu4g, wXkvWaxo, wXc_4vBd, wXk3CUQc, wXjXJ0hP, wXj_4c8x, wXjD4mTr, wXgPcxTF, wXhnvNT8, wXhv-Yyt, wXgX-Uhb, wXg3tNIx][wXv_FmDh, wXvbwcWV, wXuz_Np8, wXu3sTyD, wXpbZy9r, wXnfg4NB, wXkviBPO, wXjLp48J, wXg3nHE5, wXeTijL3, wXdvsn9u, wXaT2nLP, wXWTxBLK, wXUvLjbK, wXJ_V7pC][wXvPizWi, wXvPifjz, wXv_BEqA, wXqj-nAC, wXv3h3pz, wXvvRUdL, wXvvBJcm, wXvnhWhx, wXvnRRzr, wXvjhppj, wXvbRv78, wXvHhFWj, wXvvgpyi, wXuPfScf, wXYXbsLS, wXvjgcdK, wXQXKGJ_, wXvTgQob, wXvPAj--, wXvDQ6ky, wXvDQDwV, wXu7fsfC, wXu7PN5n, wXu3fukO][wXlncaJQ, wXlXscF8, wXlX8Dh9, wXlTcm5o, wXl_r5VR, wXl3rGEL, wXlbbVWq, wXlT7tyo, wXV3d1aj, wXl3aBvT, wXlfafQu, wXlfqsZW, wXlfaHa6, wXlPKO34, wXlLqynp, wXlDa6vo, wXgXz5qW, wXlfJ1Yz, wXlLJkuP, wXlzoD56, wXlTo-Xq, wXlDS7GR, wXlnQhIC, wXknfMhk][wXv3WtWl, wXvjDndG, wXvLlfko, wXvr0O3E, wXvX03gk, wXvXDvgM, wXv3Skfv, wXv3xb53, wXvjQ8uI, wXvLxV-o, wXvLBK2-, wXvXwlRa, wXunOBkw, wXuTPjl3, wXfGu5tM, wXuXuSHb, wXuLugnH, wXuHrF8H, wXuT6z1R, wXuzinrA, wXurg8bU, wXu7g795, wXtzPXEV, wXtT-EUO][wXmjvIpX, wXqvNA0c, wXpTt_3x, wXLj0Fsg, gXw3UGjA, wXfz55G4, wXqXNWGS, wXqPt7Y7, wXmvNckF, wXBMFO-T, wXBI1H0E, wXqz8EzQ, wXq3Mlyp, wXdzpAQ4, wXqz8zzl, wXqvMK9s, wXmX-ieV, wXeDOrAD, wXqTcbUC, wXoLi4-t, wXq7b2gr, wXqbL4KA, wXnHSix6, wXq_q6as][wXrnXRyb, wXrnHAWQ, wXnvEBa_, wXrDH6Hy, wXcXHt5H, wXrD0ZBr, wXr3zi9n, wXrrTGnV, wXrnjPIs, wXrjDRPE, wXPvIFil, wXrLDP17, wXr3yxOx, wXrzilEP, wXr3iF4z, wXrfiPzP, wXLPjtSJ, wXrPyGde, wXrLCR2Q, wXrHyc02, wXrDi4DK, wXrDidrz, wXrzh5k_, wXrrRTR7][wXuj_5t9, wXuDe01g, wXuTvW59, wXuL_Koa, wXuH_ZNa, wXuXOIwG, wXuL-Qts, wXuDe0IF, wXuvEODs, wXuPzshv, wXuHT_Hj, wXpv4E-G, wXu7R5FW, wXu7xKI-, wXuPhtla, wXtrfVy1, wXYfswjX, wXtvs8sj, wXtL89CF, wXtL8Ncq, wXsXweXQ, wXt37BkC, wXtnbrb9, wXQfXET7][wXt_Ou99, wXtzOxSc, wXtv-axu, wXtruvtu, wXtruDI-, wXtfuCbE, wXtbu9oe, wXtH-bxG, wXtfO0I-, wXtHutRW, wXtH-D5B, wXt_t3b3, wXt39j97, wXt39Qvj, wXtzNu-H, wXtrtvRZ, wXtvdEt2, wXtndJVd, wXtb9BYk, wXtT9X1n, wXtLN7oe, wXtHNq4Q, wXmLOYKa, wXtzMo3R][wXvz2_cl, wXuzudIm, wXuzPIu6, wXhuaehp, wXrrXKyE, wXoPUD8X, wXnnmfZJ, wXmzNuwb, wXQvnTVM, wXjLImyV, wX0hkQdF, wXgLe-pv, wXc7ujOL, wXbPN1Ok, wXYfOud2, wXy-U8Oq, wXUH9jHc, wXUvk2D1, wXT7zdp8, wXI3XV7B, wXO31oWG, wXOHQDGE, wXNryBte, wXJzA6En][wXu3vZ8R, wXuzfmG2, wXun_LkW, wXunvGjH, wXujvNM4, wXub_lyZ, wXuTPkGO, wXuPPcsa, wXuP_MaR, wXuH_1MQ, wXuHfAlS, wXu_eXk-, wXuzeOiF, wXuzdbNW, wXuvu2m1, wXu3tU3C, wXuf-bck, wXufeK8q, wXuX-9LT, wXuLu5hk, wXuHu_uS, wXRnOgbl, wXu7dZWF, wXuzNGQR][wXtDHOgP, wXtDnzPh, wXtHnCg1, wXtDHx1V, wXt_2TVh, wXt_2Fe0, wXt3GvL3, wXt3W4vT, wXL89x-x, gXRG2fEA, wXtz2rk2, wXtnmsR9, wXtjGBaa, wXtfm6r5, gXbmR8ky, wXtTWvoj, wXsi9Z8Y, wXtzFTXk, wXPXRpwe, wXMbFnwN, wXMfVHpm, wXP7colb, wXtr0FXf, wXtfRr5b][wX8tT_D0, wXs3mogZ, gXJSYdrL, wXs_WlR9, wXs7mLVl, wXsvGoDC, wXsv2EUC, wXsrWE0I, wXsrWLRl, wXsr2T-U, wXsnmLts, gXHCmhAY, wXsb2vIH, wXsXGCoD, wXsXWBEK, wXFimczi, wXsLGgtW, wXsDGGJw, wXs31-c7, wXs3l3wl, wXs7V_h0, wXsr1zaJ, wXsrFDxf, wXsjlglz][wXcXOqld, wXdHLwlU, wXurd1NH, wXuftjVB, wXufNLPq, wXW_yEV8, wXsbR4q5, wXuHt6Yk, wXhTqGRx, wXu_skJ5, wXu7s2ck, wXnHgE9l, wXuz8y6_, wXXn2Y7S, wXsHnvOu, wXuj8mtY, wXqvfy71, wXuD8kEU, wXuHMPq8, wXuDM-M6, wXuDcSzp, wXunldRq, wXuXlCB8, wXu7k65p][wXproWf1, wXpLZVCY, wXpDJ-5s, wXpvYTwA, wXpjInux, wXp3XdEV, wXInKYVB, wXpbGhrX, wXp7UzOG, wXortuVQ, wXDzJ0wy, wXo7tSsi, wXnzYfSB, wXoL9gYx, wXofs5Kq, wXofMMdA, wXoHsI6F, wXobqAyj, wXoTquLm, wXo7ZoT-, wXinMx83, wXobYATg, wXd7LshQ, wXoPnfGQ][wXrvSUFc, wXfTTwf3, wXq3NGUx, gXOjx1YA, wXsbyRBD, wXsXSfBf, wXqrcFAO, wXsXSUPM, wXsXyIN7, wXlH4ncp, wXpfogI3, wXgzl8tt, wXs_hi2T, wXs_BuMu, wXsvhCAX, wXs7h1o1, wXnRJUFP, wXrbZQwu, wXr3ofa6, wXr_I8xB, wXrnIOIy, wXrf4Uup, wXrT4hqq, wXrnXe3L][wXpjIwGw, wXqjfKv8, wXqbPZcG, wXqTPmyV, wXqT_g_i, gXWaZZwv, wXqLvftv, wXqPPeAF, wXZ_8k9l, wXq7OyrM, wXq3OnSz, wXXnWkOg, wXqruZVJ, wXqvewXX, wXor9GdN, wXqn-Uwb, wXqbu9Bu, wXqfO0sp, wXqX-Fpe, wXhHMw9g, wXqLeOkw, wXq3t_B9, wXdbbKGA, wXMPJbWV][wXvDp-LZ, wXvHbNqU, wXvDrof9, wXv_aXHk, wXvDrSIa, wXv_apaj, wXv_aM0Q, wXv7aWTK, wXv3aQrM, wXv3KRYQ, wXv3ad39, wXv36jSC, wXv3aTXo, wXv3abxM, wXv36c3v, wXv3KSNS, wXvzakA6, wXvv6ncD, wXgbj-dT, wXvvqx_B, wXvnq75t, wXvjqznZ, wXvjqXhg, wXvjKVvI][wXsPUtD-, wXsPkNvl, wXsPEA9p, wXsHkzRM, wXs7z5_H, wX1cQQ9P, wXsnjnZ-, gXR6lVgt, wXqf9RKx, wXsvzuti, wXUDYnBf, wXfTniRY, wXsfjnuU, wXsbz71T, wXsXD_Zy, gXQnvqPS, wXgjn84B, wXsTDBqB, wXUlm-Ww, wXq_tG5i, wXsHzlpa, wXkD0slV, wXs7SyCt, wXszC6vd][wXqbM5yw, wXqPci_D, wXqLsbaQ, wXq_58zg, wXqLmAPo, wXqHk1GK, wXqvzM5w, wXqXDC9k, wXqLDsfG, wXqviPSJ, wXq7xKme, wXqDyusX, wXqHCc_k, wXq3AT4C, wXqHw_DN, wXprdrSE, wXpHtaF4, wXp7MEys, wXp3bWeh, wXpf7jE9, wXpzaQA8, wXpn6EqA, wXpjp2F6, wXpXZFRm][wXtHLdbM, wXt3qEVN, wXTHx9hN, wXt7af3D, wXt76YHF, wXtrqX8L, wXtTKC_u, wXtP6f_f, wXtL6cqK, wXtnJiIz, wXtDpwLQ, wXtfoBQ2, wXtHY4aZ, wXt73x1G, wXtDHF6r, wXGJ61Xd, wXtvWM5J, wXtPQDeT, wXs392Q4, wXs_JtsD, wXsDKYG9, wXsLMCsw, wXsTLtul, wXsv5e-Q][wXtXIDJN, wXhH94gU, wXtTYwMQ, wXOVwbKk, wXtT4CIS, wXtD47E0, wXt3Hgt2, wX44tM-q, wXtvnzZ7, wXtv3jfQ, wXtrHe_o, wXgXHAED, gXYGwsj3, wXtX37WK, wXtXXz9o, wXtX335Q, wXtXXpQ-, wXtPH0K-, wXtPXncx, wXtPXKIP, wXq_tLDn, gXXqdIGE, wXtLnWIP, wXtLXGgD][wXXLaAqz, wXrfZIQO, wXp_fuZA, wXHLNK7S, wXbbGRYq, wXmbUAfO, wXmTUcfs, wXjfpnFr, wXhXOT8R, wX0CSbSZ, wXV_d7dy, wXRnxR5k, wXPPcwcI, gXidb1DP, gXeNaL8P, gXobL8tY, gXmDSF3_, gXgzW2cx][wXmvSbiN, wXmXyru_, wXmDC7ft, wXmLyAuj, wXmvhmdi, wXmvhkvc, wXlLZ4Bn, wXmbRa9h, wXmXxpKa, wXmbgfpf, wXmXwCv3, wXmTQ1Fy, wXmPwC6c, wXmDQlab, wXl3fvtk, wXf35Zr9, wXlbv7zQ, wXlH_LYV, wXlfuy3m, wXlbeedK, wXlT-syF, wXlf9pF4, wXlTtWi0, wXl38WLo][wXPDObHb, wXPv7aik, wXOri8Ys, wXMbJpbH, wXLDd4CD, wXLzcGSH, wXK_EV5K, wXKPySEz, wXI3rL5I, wXIXbXuD][wXt38b7-, wXtvc1aO, wXt7KA1R, wXtrsFI5, wXtTM4UH, wXtPMDvh, wXt3r2fP, wXt37g3z, wXtfLXt3, wXtrLEMn, wXtnrcTJ, wXW_B0Du, wXtTLXBj, wXt7a5k-, wXtDr_pu, wXsnEioD, wXt7KPdR, wXY7mZPC, wXt3aEx1, wXtDIogi, wXtnqLzB, wXjH0A7e, wXtbK9k7, wXg3qi8T][wXsvKpwJ, wXM7Z2Ui, wXsfqQQf, wXsbKlLT, wXsfJexU, wXsfpEpk, wXsbZbOz, wXsX5wqi, wXsvoesp, wXsXYj0_, wXoDU0cw, wXszHm8R, wXaLyv02, wXfzZHVI, wXsLISWK, wXYDpxIK, wXMMc7Yf, gXVO56ai, wXsnn9EW, wXsnnVv-, wXsjX3ND, wXsj3d2w, wXsfn-mp, wXsXnXfr][wXtHLdbM, wXt3qEVN, wXTHx9hN, wXt7af3D, wXt76YHF, wXtrqX8L, wXtTKC_u, wXtP6f_f, wXtL6cqK, wXtnJiIz, wXtDpwLQ, wXtfoBQ2, wXtHY4aZ, wXt73x1G, wXtDHF6r, wXGJ61Xd, wXtvWM5J, wXtPQDeT, wXs392Q4, wXs_JtsD, wXsDKYG9, wXsLMCsw, wXsTLtul, wXsv5e-Q][gXSeL8gM, wXrfx9m4, wXC3wZHg, wXrXBn24, gX3ysRIT, wXr7wd91, wXr3QJEn, wXQDZFqk, wXrrw-OC, wXrrAVfL, wXrngxEP, wXrngHdm, wX8YLB3_, wXrbAy-i, wXony_GW, gXEfsz15, wXrHQPpJ, wXLLD3m0, wXrDgFxJ, wXq7vPon, wXqvPd36, wXqrvf51, wXqf_8Cc, wXpnYDH0][wXqbM5yw, wXqPci_D, wXqLsbaQ, wXq_58zg, wXqLmAPo, wXqHk1GK, wXqvzM5w, wXqXDC9k, wXqLDsfG, wXqviPSJ, wXq7xKme, wXqDyusX, wXqHCc_k, wXq3AT4C, wXqHw_DN, wXprdrSE, wXpHtaF4, wXp7MEys, wXp3bWeh, wXpf7jE9, wXpzaQA8, wXpn6EqA, wXpjp2F6, wXpXZFRm][wXvfFiNg, wXvPGK15, wXsvX_ES, wXv7Ak_a, wXvbWM3f, wXvT29Lj, wXvjVOPf, wXvbUpMJ, wXv3l8ce, wXvr0jdP, wXvv0C-A, wXv3VhF2, wXv3UHQv, wXvbV-u5, wXvLjmW0, wXvL1ehx, wXv7Epij, wXv_TGpo, wXW3kT7j, wXvjibf2, wXtn6krn, wXvLEQHP, wXvHUTH-, wXvHUCdu][wXoLXYrK, wXoDV5gt, wXo_1q_8, wXorlbAH, wXon1NuC, wXoX0wZW, wXo3TxFb, wXo_iqIB, wXoHiRN8, wXoHRPJ6, wXnTq8yp, wXnP6g_P, wXnfprdB, wXnHIZeM, wXnznRnh, wXnjn3an, wXnLWUCh, wXnvFQEq, wXnb1PgC, wXnHV9Rp, wXn7Uyvi, wXnjEVRV, wXnXkaZ6, wXV7MAtk][wXuLvpbn, wXM_8a9C, wXtXsMsJ, wXbXYAqh, wXsTcQV0, wXrvIA03, wXrDW6Jd, wXpvNgPw, wXp7K3Sm, wXor6Skk, wXo3pgjq, wXonn68t, wXmLRC9O, wXl_bQxY, wXjrh02w, wXizWFyB, wXh72M7s, wXgPQIH-, wXfrFc-s, wXbH8rwn, wXar2cTh, wX32qXvL, wXavh2v7, wXajwyGO][wXnPF_UD, wXnPFs45, wXnLVgLq, wXnDlcPw, wXn_0cXt, wXnj0Uf6, wXnfEYvL, wXn3Tlhi, wXdaAGkU, wXnjjAtH, wXnfDu7p, wXnTTEaN, wXnDD7SZ, wXj7gAbB, wXn3S3hj, wXnzCa1k, wXnvyDi_, wXnrywPP, wXnriISQ, wXnjSZim, wXnXiSAU, wXnXCXs2, wXnXCJAp, wXnLCEEw][wXpL9pWL, wXpHtaF4, wXpHNisA, wXp_srPd, wXpf8dZx, wXpbs-ho, wXpDc1v-, wXp77uCN, gXf-bXXK, wXp3ruJP, wXprb9g1, wXpbLxWw, wXpT7kAa, wXpLLKJc, wXp_KTVI, wXpzq7L1, wXpzKDgX, wXZDN1hh, wXpr6UeB, wXpjqeGs, wXUfvCyn, wXpXKdwO, QXInO4GN, wXpLKN5G][wXv36c3v, wXcTip5m, wXvjX16H, wXvDWO8w, wXvP4oMj, wXvL4Grx, wXvDVUBX, wXvzWx78, wXvPmXg4, wXvnl70k, wXvD1CcZ, wXv7EnoH, wXvTU9o0, wXvPy2Qk, wXvfykxD, wXvzSTkn, wXv3SItB, wXvry8tk, wXvTiAzc, wXvzBIWO, wXv3gcQl, wXvvguBH, wXTz0Tal, wXvvQj0O][wXv_FmDh, wXvbwcWV, wXuz_Np8, wXu3sTyD, wXpbZy9r, wXnfg4NB, wXkviBPO, wXjLp48J, wXg3nHE5, wXeTijL3, wXdvsn9u, wXaT2nLP, wXWTxBLK, wXUvLjbK, wXJ_V7pC][wXovj2Pi, wXovTV8u, wX-GQ_rJ, wXorTMDb, wXofT30S, wXobjuIa, wXFTufNX, wXoXDR0n, wXnbBt7u, wXoPDplO, wXoPT6Wf, wXoLzdUo, wXZjLZ8X, wXo_SrYO, wXo_yNbn, wXovCvGA, wXoriiNh, wXonyQNt, wXojSgmC, wXoHi8qe, wXoHiRN8, wXoHCRVh, wXo_BqRu, wXo7xHr6][wXZH-93P, wXYfNHq-, wXYvHBnc, wXWDhbE9, wXVjErPx, wXUfv1Hh, wXUrYtwV, wXSXU-y3, wXR7dxYJ, wXQjXt3W, wXQz1HKg, wXNP978W, wXNryBte, wXLL76Nm, wXLjazbx, wXLD51l4, wXLDkbGV, wXInnaY_, oLU1OfXoA][wXnfxCBo, wXnzg7w0, wXnvQ5O6, wXxgQIl9, wXmLPrV0, wXm_u6-N, wXm3uw1J, wXmzuyj9, wXmjO5x4, wXmfefXV, wXmbOxv1, wXm7sFfY, wXmHICoK, wXmn2f2l, wXmfmmJ-, wXmHU_78, wXm7j5dB, wXm3y-N2, wXmbCCA9, wXmDyOPe, wXmLh9tU, wXmTg_EI, wXmTwvTc, wXlbv7zQ][wXsPEHEC, wXsPEA9p, wXsH0VCz, wXs_DEEy, wXsrj6U4, wXsjDM-d, wXsvysDQ, wXsnS_KL, wXsriFhb, wXsHSJqh, wXsXgvCl, wXrvn2be, wXrnEAgb, wXrjUcD0, wXrvS_P9, wXrnSJs0, wXrTCYeN, wXXPMdE_, wXr7ggh0, wXqPvg2R, wXYrqQij, wXq7f-R5, wXqLeDSP, wXav__FE][wXovx6hB, wXonh2FK, wXPLgzGJ, wXbLlaw8, wXnfq87O, wXn7JXO1, wXnrZT3V, wXnT5G_-, wXnP5qSl, wXnX45KV, wXnLIgMm, wXnHIDF-, wXnXXlRh, wXn3XpJX, wXnnnAsN, wXnT39Uq, wXnH3tKz, wXnzGnCL, wXnvFQEq, wXnnV647, wXnn1bCb, wXn_zsHW, wXnX1pR3, wXnXlJNc][wXn3R1CY, wXnnRdWZ, wXnLhHy4, wXnvQ5uI, wXnTgavG, wXnDQuVS, wXm7fL_c, wXm7f7lA, wXmzfviq, wXmbPj-w, wXmb_BjR, wXmDffr4, wXm7es-R, wXmzeKVm, wXmve7ab, wXmzuFdn, wXmr-dbL, wXmberC6, wXUnoqWa, wXmTOjgv, wXmTOZc3, wXN7N9cr, wXXTRRAr, wXh_qfD4][wXvzpwOa, wXvrp0_l, wXvjJR9a, wXvz3IOe, wXo_iz_d, wXvvIcZF, wXvHZjMQ, wXvzI2QO, wXv72-CG, wXvX4sRc, wXvPINt7, wXvL4Grx, wXvHIgcS, wXvDYGPU, wXvzVT26, wXv7Hg5l, wXvn3rhe, wXvjmUuG, wXvDnxoF, wXv70kba, wXv_kNS0, wXvD1LZQ, wXv3WYlU, wXv32iAF][wXtfNbuX, wXtbswje, wXtDsF4F, wXtDrCYx, wXtfa0iq, wXtjIO51, wXtzXSa6, wX_KExka, wXtjndZG, wXYnHnXH, wXtfXGc3, wXtHmUQt, wXsL9k0y, wXsXb-RF, wXsr4iKw, wXs7a7E9, wXsLpz_H, wXsT4oTT, wXsvnlzh, wXsHDjcr, wXFP_yqy, wXrT7WVb, wXrfnoac, wXr_Bixt][wXtbxwcc, wXtLR6cA, wXs__xPk, wXsDvJ_3, wXsve0Ms, wXsTu23J, wXs3d3CI, wXsDqGgj, wXsLd_TR, wXsLtikL, wXsDaXZZ, wXsTcNnK, wXsrqiKy, wXs_LFON, wXs3LnCD, wXsvrSPb, wXsnbhLd, wXsXr4Wr, wXsTbJmQ, wXsrJenp, wXs_6yRb, wXsvpQ01, wXsDbHhd, wXszqXpd][wXonMBKr, wXoPMJ1E, wXiTB21_, wXo37RyF, wXorL2Me, wXovrKvz, wXovL-K1, wXojLW4G, wXofbJdo, wXoDbBiw, wXovK9wH, wXonaXaM, wXof67K_, wXo_53p0, wXoXZJDs, wXozpcKE, wXorJ9gt, wXoXJ0R7, wXoDJaGa, wXozYvef, wXkH2j8P, wXorIopu, wXhPsY0R, wXoL4lCf][wXvzZnzJ, wXvXpuKq, wXvbpuWr, wXv3YiBx, wXv74T4F, wXvzYVnG, wXvj4lAe, wXvXIo5a, wXsDVKWB, wXvz11Q0, wXvPmwJa, wXvrnmzD, wXvX2L6Q, wXvjH-lS, wXv_Gu4d, wXvT33AT, wXvPXLWM, wXvP3uCQ, wXvPXgtC, wXvDnGeP, wXvDnG_G, wXv7Ghj7, wXvzGFQv, wXvLDRv4][wXuzEpzH, wXurEqEZ, wXuvEODs, wXufzY8f, wXu3Cp0V, wXufSlA8, wXuXSprt, wXu_BtTW, wXuHybCT, wXuDiVlI, wXufhYRE, wXubBaqI, wXuLRC2r, wXuzgxqq, wXuDhdXW, wXujwusz, wXuvQtsL, wXubgPcC, wXuXw06v, wXuPwil_, wXuPQNfU, wXtrv8zP, wXuDwNBY, wXtLPHPi][wXtTKE2E, wXtLqY9s, wXtHqla4, wXtH6WQ1, wXtjpieF, wXt3Jmma, wXtzJMjK, wXs_zA4Z, wXtf59FX, wXtTJZbg, wXtPZ3M4, wXtDZQFS, wXtLJEow, wXtH5x7Z, wX0405at, gXhWhFCa, gXSebgop, wXtnI-8k, wXtnIom8, wXabe6_L, wXtbYBO-, wXV3e6wS, wXtX4kt4, wXtXYfJD][wXuj_5t9, wXuDe01g, wXuTvW59, wXuL_Koa, wXuH_ZNa, wXuXOIwG, wXuL-Qts, wXuDe0IF, wXuvEODs, wXuPzshv, wXuHT_Hj, wXpv4E-G, wXu7R5FW, wXu7xKI-, wXuPhtla, wXtrfVy1, wXYfswjX, wXtvs8sj, wXtL89CF, wXtL8Ncq, wXsXweXQ, wXt37BkC, wXtnbrb9, wXQfXET7][wXq3aUv5, wXqnKHyt, wXqHarew, wXqb5cZ_, wXqD3qKi, wXqv1cN_, wXqD196H, wXq_05pw, wXqrQp81, wXq30Oca, wXqjE4sQ, wXqHU8y1, wXqH0GFH, wXqLzQ8x, wXqHTETx, wXq3Cktp, wXqzSa5z, wXqXiZSp, wXqDiH7j, wXqDCH4z, wXqLyzfH, wXqnR_9f, wXqfBB6x, wXqXRgbj]\",\n          \"[wXSv4kVR, wXvTIukX, wXv_3vYK, wXv_nk-S, wXvXn2nH, wXvP3su2, wXvXnnhJ, wXvTnKjb, wXvX32WX, wXvTHhAq, wXvDnL2l, wXvDzCkR, wXv7Ef3H, wXvPnxEM, wXvLXUHY, wXvz2Fem, wXvXVoTa, wXvb12T2, wXvflcia, wXvrGt4s, wXvfmfmp, wXvfGfVV, wXvn2uQQ, wXvPGTHI][wXsLN4fn, wXUfPj9o, wXUX_iSW, gX0Tmd-8, wXSrIQ-C, wXSv4kVR, wXZmJ4KU, wXibBrkW, wXRDvvfw, wX6KbCS3, wXBrB-Is, wXGLHnUM, wXf2sWHp, wXnjkHzJ, wXguhFFO, wXDDXL2C, wXp_ZwFZ, wXJ7kb2C, wXnrjNQv, wXn3zPKf, wXDvveLR, wXtr2WWJ, wXtvSgNw, wXs_MLAj][wXv_Jfxj, wXvz50ew, wXv_oCJB, wXvfYyXj, wXvH3H0L, wXvDYpig, wX0KfJs-, wXDHnt1u, wXvz3n5q, wXvnXJYS, wXvLnSif, wXvHXKwK, wXvb13Om, wXvnGGX9, wXvvVKdD, wXurf4Ih, wXu3NalG, wXvLWSQO, wXvHWvpH, wXvrEsQI, wXvHjIfZ, wXvvECf1, wXvrE_nk, wXv3zUKv][wXv7GTQ-, wXvjhsUf, wXuL9cjc, wXujb-v6, wXZGh3pC, wXsXVKdh, wXrzQvOZ, wXqnLPWY, wXnPAqD9, wXmrOsC5, wXl3cDUK, wXgD3qGS, wXfPIm7N, wXdvQPpl, wXbzmXoO, wXaPY9Vp, wXYPu-Zm, wXVzBgeL, wXTznyrl, wXvWEIl6, wXPzL9wa, gXNMwCuV, gXNEQxnP][wXvXIuo1, wXvTH8IM, wXvP3hfU, wXMLbpH3, wXvr0-aS, wXvvzkwN, wXuvustq, wXYjPGhh, wXmXtltx, wXtX6dIK, wXtPY-E0, wXtHI0HN, wXsrt1aZ, wXsLrZZQ, wXsDL0XK, wXWTR-mP, wXsf17pf, wXsLxK3M, wXsrgCnw, wXr_JBwb, wXpr_ZXX, wXYDGS1u, wXYPFItc, wXq_uGad][wXXbxhz1, wXXXx8_1, wXW7TQhp, wXU_feRx, wXDhXzhm, wXNPB1Hp, wXQLbLcG, gXCzZw9P, wXPvfbNx, wXPDmBg7, wXFeYvYb, wXOrApyS, wXZ59w2n, wXKjS35y, wXJTA2Tc, wXEPf0Y-][wXc03vdV][wXv3CSIQ, wXvnROJ9, wXu_tOFa, wXuvNUOC, wXufbLCj, wXujVClD, wXtD5N2g, wXsrD6se, wXrHI6NF, wXrb06NV, wXrfgyzs, wXqf_k87, wXq_jm8p, wXpDsuWa, wXpfoB_k, wXo7JWBW, wXmT2Pl-, wXmbSNDh, wXmjxNi0, wXm_gRrc, wXlbM_mh, wXlvq1RP, wXlT6iL5, wXl_5CnA][wXvvQ3Bv, wXvTgbYK, wXIrImnG, wXtPaNtW, wXsbWMWx, wXrXp8bR, wXrv0k1B, wXkzr2Ys, wXqLhg89, wXqbgDQw, wXpLsyfp, wXp_LdFU, wXnzCJ4a, wXmXuY1w, wXm38tg4, wXmrUkV-, wXlHrfW6, wXjTgGa9, wXiL0mA4, wXhH-0zS, wXgrKK-u, wXgDpsDK, wXgv2dlc, wXgvzdzj][wXRP0VQ_, wXxWx1jK, wXPbDld1, wXHPf4au, wXLf-Yje, wXLXeRy3, wXQGFBEz, wXJjFQ2y, wXfufGW1, wXQq0RxL, gXj7z7WW, wXfK_dlS, wXodZV6X][wXMrPiWW, wXyKq7NO, wXNqogqs, wX5uQ3gI, wXZyHpV2, wX2aS16v, wXH7_YCQ, wXHLPseH, wX-WHrQJ, wXGjVWzM, wX5KCIK4, wXGbjfQw, wXY64o-X, wXED-zr5, wXCXmZ9M, wXC7g45t, wXC3wrjf, wXAvfY9O, wXA7cyeR, wX9K3hG_, wX7y-2AK, wXWaJiwM, wX3ycPTr, wX3OM78r][wXunuEh5, wXsT2EhQ, wXrLSjkT, wXnfEu5Y, wXqjThvd, wXnLcfeP, wXQ7nsti, wXgj6TPB, wXfzhZ59, wXIXMcno, wXPvSiEf, wXTH3A6q, wXLbyFlD][wXvfE8_n, wXu3s0dH, wXtv5T-C, wXWtmF-H, wXrzHb5E, wXrrhJBY, wXpL6a2D, wXmbQYkj, wXn3nHK9, wXk_JFkr, gX5US3Ez, wXkraMQa, wXkv3IyL, wXinTvxz, wXQEARVY, wXOa6-d8, wXN2IxTN, wXe_cY1k, wXdHQoIs, wXbvUpvy, wXZDdFgS, wXZvyOLQ, wXY_fStt, wX3O4wn1][wXvfFl7y, wXvLViS1, wXvvEXuD, wXvDldmv, wXjv0cVf, wXkDnXDe, wXvjkX_H, wXvXUMcI, wXv_zXeP, wXhXeI-N, wXvnjFVW, wXuLRGoB, wXvzC45u, wXWnD84N, wXuLAWN0, wXvzxvB6, wXm_-oCf, wXgj7M8D, wXnLhG_d, wXNDu0mh, wXtfmeML, wXqrvj4F, wXoTGdfU, wXvjRIeU][wXv7kNq6, wXvH0UWb, wXv7TSmS, wXuD_UYW, wXu7aAWV, wXuP3bxT, wXurCexE, wXtLf39U, wXtv5VPR, wXsbf9TJ, wXrHagW9, wXrnkxfX, wXqfl-ea, wXpDsuWa, wXonNLL_, wXobqeRx, wXoT4JXs, wXo_EPHu, wXo7jlEP, wXlTfGbd, wXlr-slq, wXkb-BpP, wXkfWzS6, wXjbE87l][wXt3IceL][wXvv1057, wXDPTSxA, wXonGrRU, wXhrKezd, wXkjJoAo, wXjXK-8J, wXVvOiQX, wXgHFWkj, wXfzxNeB, wXbDspkM, wXYPofMy, wXX_VHI4, wXUz2Kk8, wXMntYtw, wXLnMfFe, wXKn6qch, wX8qqIhp, wXoZJnBZ][wXu7CyVP, wXtTmW8R, wXn7E4N7, wXjPFQes, wXbvUpvy, wXYXd1G1][wX8W_QgC, wXh37l87, wXPb4wO9, wXgv5fgj, wXgrZq6_, wXl17NuO, wXbfhZ1C, wXqyHqUN, wXQSYkwY, wXHK-7MF, wXbzB2OA, wXYhY_28, wX-aH5-C, wXZneJ7q, wXMPJ0o4, wX-WHhnk, wXXv6MWK, wXSXC66G, wXSThSYA, wXRf_Vld, wX-OnNkY, wXQnMUpA, wXMHM-Vl, wXODxzy9][wXargdq_, wXWPRT3i, wXV_r8HT, wXL_CCh_, wXUX5kli, wXOjlLPW, wXNLfN-D, wXJ3fFWc, wXIbc-30, wXIfIdOI][wXvXIuo1, wXvvzkwN, wXuvustq, wXYjPGhh, wXmXtltx, wXsDL0XK, wXWTR-mP, wXsrgCnw, wXpr_ZXX, wXYDGS1u, wXYPFItc, wXp34PKp, wXfzUUQf, wXVvIEt-, wXo3eX0u, wXoT0O0q, wXnTOP0E, wXmHsV85, wXlz4J6a, wXkP0E5T, wXLfZtO6, wXiXvKJY, wXifySxx, wXgHlCMf][wX22qZ0E, wXz6NUBl, wXyeKSpQ, wXyyjmqv, wXuaPLxM, wXq2XZBm, wXpCAqCV, wXn-eGY-, wXly8p1i, wXlu8Mol, wXjCAXWb, wXiSbl2U, wXhu0QL5, wXeS-Ml7, wXa-O7TM, wXaGJBKx, wXXeujiW, wXXa-391, wXQ-xHtm, wXPmQVxr, wXJWEgKC, wXGWtLNK, wXEumqdg, wXDqQGQi][wXp3cXtp, wXh7c-5a][wXsXVKdh, wXjH2G4y, wXN7suLF][wXB-c126, wX9ppHb_, wX9tJGbK, wX8J8QB_, wX2RFaE5, wXzZDmni, wXoZJuMC, wXlxMtaH, wXeNJKNl, wXcpZPjT, wXZlAjYX, wXXh9rpr, wX5A6nNH, wXXVkxbq, wXBRJHsV, wX3gLHCj, wX3c7-ax, wX3cLq1Y, wXiYaRdA, wXiUKiWi, wXYczu3e, gX4n2_9f, gXxTPI2f, gXoDeoVK][wXvnqtw1, wXXnYjOI, wXvraFMw, wXvnqBKt, wXvrqDf9, wXvraMz8, wXvnKVv2, wXknyPZ5, wXvnaHp6, wXMjAIr1, wXvn60jD, wXvnqD9M, wXvnKKM7, wXp3pxjT, wXvn6s8V, wXvnK3P6, wXvnaOLb, wXvjK-Ej, wXvTbHJb, wXvnKBSg, wXC7wE_u, wXqzbGPQ, wXvP7_LU, wXprxsod][wXvfWr1d, wXvzwTjM, wXuPihaM, wXsPSFNG, wXr7CHcP, wXqHeTED, wXqvqi3G, wXpnNZA5, wXozFf0H, wXorDNW4, wXnzFSku, wXjvF8vi, wXhTPuPz, wXhLCatY, wXg7Nntr, wXgnNKf-, wXgLT0zC, wXfH7uLG, wXebeUkI, wXeP6pg9, wXePh8F3, wXcvODgG, wXc3ZQh6, wXoeeyqs][wXvLIbIW, wXv7mi3z, wXvbmYAJ, wXnzmuAf, wXvTwL44, wXu_fsV9, wXTHKIgh, wXurnNaW, wXt3v3RG, wXtfbdXk, wXpfmj4w, wXtj25sg, wXtTmW8R, wXsDOpni, wXs7rqvy, wXsb51cH, wXsTLqZk, wXsHbN1U, wXszlJuz, wXsXVKdh, wXs3zC0_, wXsrTb83, wXn7E4N7, wXqLg2Wm][wXrDn5QA, wXZPf_rV, wX-Gn1Tn, wXn3UnhD, wXnrD7eG, wXr7-JYx, wXrbgQIK, wXqTPyCC, wXqTfIRd, wXpPqZRH, wXpnpnIX, wXY-UqYw, wX2iZ6as, wXoD4qZm, wXYHbeO5, wXn7zNTH, wXnvlzTJ, wXnrV7Th, wXnnV3Yv, wXFPaKMn, wXnDBgk3, wXkPFbcE, wXH-9zK2, wXi3W43Q][wXvnK5NF, wXvzp_jQ, wXvnqkiF, wXvrafKV, wXvT7j4O, wXvn6T-5, wXvnqirN, wXvnq2yX, wXvnKqxm, wXvT7h1m, wXvn60Py, wXvn6Ex2, wXvTrhdL, wXvXbykq, wXdnxl5p, wXvnK-sf, wXvraXgU, wXuPNqVE, wXvnq9nF, wXvraa5s, wXvrKVLm, wXvnq6bZ, wXvnKlZl, wXvnafMn][wXv_XkUm, wXv_CePp, wXvry5xj, wXsLbW5G, wXsbD85M, wXrrWJ13, wXrXgrWQ, wXq_tg4T, wXoXMRFC, wXp75zI_, wXpvYvaa, wXnv3G_J, wXmfjSZV, wXkXGzDz, wXk3kulk, wXZTp3Cz, wXxiR7OC, wXgywKEA, wXQyjT-t, wXgqwd5X, wXeP6pg9, wXVvAb1H, wXXvk9Jr, wXU3unpC][wXrv0k1B, wXkzr2Ys, wXpff_5g, wXoLtmHs, wXm38tg4, wXhH-0zS, wXgv2dlc, wXgvzdzj, wXgzDTGi, wXgXzjfk, wXCT4yvj, wXHaev2-, wXRnFSYT, wXPrUvSy, wXy6HqSy, wXyukPYb, wXCOfYxt, wXrWMxW4, wXmicwdt, wXXi9R70, wXUG0Hbj, wXTy0lAb, wXJCW321, wXpVQrwk][wXjfxydF, wXjfxV_8, wXjnQzwu, wXi_SzG6, wXhjc9HF, wXf38Ql8, wXbjZ2lS, wXarzHYw, wXZzIXdB, wXZLAORz, wXYbehwK, wXYP6wco, wXVHR84z, wXVrwP6F, wXUzIoeo, wXTPr-Bg, wXTHj17d, wXT7SJ-w, wXSHxIUU, wXRbhONH, wXQXvMwS, wXQr7xJt, wXQvGamc, wXPrtspn][wXv7GTQ-, wXvjhsUf, wXuL9cjc, wXujb-v6, wXZGh3pC, wXsXVKdh, wXrnm30C, wXrnGGPm, wXrzQvOZ, wXrXgrWQ, wXqnLPWY, wXprL8J2, wXnPAqD9, wXmrOsC5, wXl3cDUK, wXbrKdrx, wXgD3qGS, wXfPIm7N, wXdvQPpl, wXbzmXoO, wXaPY9Vp, wXYPu-Zm, wXV3lZiE, wXVzBgeL][wXPrUkLd, wXYDMyYn, wXQzn6To, wXfjQ9gx, wXfDwAfT, wXdP-Q55, wXXXUT9W, wXdjZawu, wXbzxLz0, wXZzK6rT, wXVb_zen, wXYzUG01, wXT3VsZ-, wXMLdyso, wXQvXF3h, wXQLHwgf, wXQ7FV45, wXLrN0b9, wXL7TLvd, wXL7STsh, wXCfnqaG][wXKTSZZ2, wXvjZygs, wXvX5eUF, wXvX5W_9, wXv_4WIR, wXvrIXs4, wXdnxaRO, wXXn1skq, wXmP_REC, wXgnISc1, wXvvHKSn, wXvv3OoF, wXvn3kSV, wXvj3Hz5, wX_oocXu, wXvf26uh, wXvjmuyC, wXNbzfxQ, wXvfUBvr, wXvr1wmi, wXuzfl8u, wXvbl17g, wXvHF7hJ, wXvnFK3X][wXgzDTGi, wXgXzjfk, wXCT4yvj, wXcbdvjZ, wXbbeFEk, wXbX33B1, wXa7Gv6l, wXHaev2-, wXQLT_zP, wXPHaTxf, wXPrUvSy, wXMLbflw, wXy6HqSy, wXyukPYb, wXCOfYxt, wXmicwdt, wXUG0Hbj, wXTy0lAb, wXpVQrwk][wXS3Hu8I, wXHPePi4, wXRmPY_m, wXgZ1sT1, wXPx_0KX, wX9MTMnj, wX8IvpEJ, wX7Iq3lN, wX7IaVGK, wX6UqPOz, wX4Q_9d3, wX1EECEy, wXes-0T7, wXOkK7qW, gX3fz9TJ, gXgD_XP1, gXUzM7tL][wXvDq9Bq, wXv_pPKh, wXv7ZDTE, wXvv5CZ2, wXv7YiNU, wXvn5v9B, wXqztum6, wXvPZUHI, wXe_XpoP, wXvv4IHa, wXvjnzFk, wXvr4cM-, wXvno9nT, wXsLN4fn, wXUfPj9o, wXUX_iSW, gX0Tmd-8, wXvbITb1, wXv7mq8k, wXv_GXnK, wXvD3sjb, wXvLHrmQ, wXvLXwj-, wXSrIQ-C][wXqXtPA3, wXZPqare, wXejyboQ, wXqb3emt, wXqPUvRR, wXp3cXtp, wXgzuM-N, wXp34PKp, wXfzUUQf, wXhTgj5U, wXULW1kl, wXpDnPig, wXVvIEt-, wXoDv7H1, wXo3eX0u, wXojmBfl, wXoH1Fxd, wXoT0O0q, wXonD2I4, wXnTOP0E, wXnL1L6n, wXn_krLt, wXnXAFL2, wXmjuXlK][wXc_ZalS, wXmHsV85, wXmzDEme, wXmvxwUd, wXQj62XJ, wXlz4J6a, wXl7S_xq, wXk_G-8g, wXkP0E5T, wXi3NuA_, wXLfZtO6, wXiXvKJY, wXinenqw, wXifySxx, wXXbKAwk, wXibhafr, wXh_eS51, wXh7c-5a, wXUX0421, wXhHJRvA, wXU3XPKw, wXOTgONf, wXg_nbNB, wXgfHpzw]\",\n          \"[wXQj2El9, wXQLvPBs, wXhbYeJa, wXIfnBFP, wXVXftbE, wXZD71Qm, wXIvueeL, wXyijVJU, wXrHHLFv, wXV76CQV, wXLT3D6M, wXpnKWTj, wXDt3c5y, wXY73rgH, wXLb_pzJ, wXYjlo1M, wXu-mbyT, wXKHBPu-, wXnS6k_v][wXrbXWKG, wXYrbpWV][wXNrdIkT, wXvj1GCU, gXT61rW4, wXvvxyNr, wXpDKw85, wXsP5TsI, wXSPCLm9, wXgDmdFd, wXbPBSQH, wXa_QLdb, wXZnv2P2, wXQj2El9, wXsr0yFy, wXsjlpTZ, wXbjCj2s, wXQLvPBs, wXhbYeJa, wXovI0oc, wXjTF7Ow, wXtTusQZ, wXtTtHji, wXtTNmzY, wXtb8I9I, wXsnDD2g][wXNrdIkT, wXvj1GCU, gXT61rW4, wXvvxyNr, wXpDKw85, wXsP5TsI, wXSPCLm9, wXgDmdFd, wXbPBSQH, wXa_QLdb, wXZnv2P2, wXQj2El9, wXsr0yFy, wXsjlpTZ, wXbjCj2s, wXQLvPBs, wXhbYeJa, wXovI0oc, wXjTF7Ow, wXtTusQZ, wXtTtHji, wXtTNmzY, wXtb8I9I, wXsnDD2g]\"\n        ],\n        \"semantic_type\": \"\",\n        \"description\": \"\"\n      }\n    },\n    {\n      \"column\": \"post_index_in_post_list\",\n      \"properties\": {\n        \"dtype\": \"number\",\n        \"std\": 7757.901005938353,\n        \"min\": 0.0,\n        \"max\": 256225.0,\n        \"num_unique_values\": 1978,\n        \"samples\": [\n          1355.0,\n          202.0,\n          1543.0\n        ],\n        \"semantic_type\": \"\",\n        \"description\": \"\"\n      }\n    },\n    {\n      \"column\": \"post_token\",\n      \"properties\": {\n        \"dtype\": \"string\",\n        \"num_unique_values\": 4546,\n        \"samples\": [\n          \"wXsPVyr1wXj_LgVEwXeHMsWOwXlHOOwawXlHOOwawXoHT_jrwXj7LAsCwXpHbzoSwXTrgmT6wXsfWG7gwXn_CA5pwXq3cBQ6\",\n          \"wXvz5C6ywXvr6rfZwXv_p34dwXv35MoPwXvbqd7RwXvzqfRAwXvvJowPwXv_J3pOwXfTHKhgwXv3G2_5wXv_KHBiwXvnqKWDwXvf6-wQwXv_p34dwXv7J_rKwXvzJJoawXv7ahZSwXv_p_e2wXvvpKY8wXvvIvDkwXvf6-wQ\",\n          \"wXoj1xYqwXsbzlbpwXsbzlbpwXsbzlbpwXurxze3wXev_ZPTwXtDprHfwXqDgjJ-wXvjEQWswXnHSPmawXk3isHBwXALuUkX\"\n        ],\n        \"semantic_type\": \"\",\n        \"description\": \"\"\n      }\n    },\n    {\n      \"column\": \"loads_count\",\n      \"properties\": {\n        \"dtype\": \"number\",\n        \"std\": 303.98327672216146,\n        \"min\": 0.0,\n        \"max\": 4671.0,\n        \"num_unique_values\": 733,\n        \"samples\": [\n          689.3,\n          141.0,\n          106.0\n        ],\n        \"semantic_type\": \"\",\n        \"description\": \"\"\n      }\n    },\n    {\n      \"column\": \"post_token_count\",\n      \"properties\": {\n        \"dtype\": \"number\",\n        \"std\": 19.735328766880624,\n        \"min\": 1.0,\n        \"max\": 266.0,\n        \"num_unique_values\": 138,\n        \"samples\": [\n          45.0,\n          111.0,\n          9.0\n        ],\n        \"semantic_type\": \"\",\n        \"description\": \"\"\n      }\n    },\n    {\n      \"column\": \"click_percentage\",\n      \"properties\": {\n        \"dtype\": \"number\",\n        \"std\": 13.517000087989445,\n        \"min\": 0.11904761904761905,\n        \"max\": 300.0,\n        \"num_unique_values\": 1294,\n        \"samples\": [\n          1.6666666666666667,\n          2.648714269948129,\n          25.454545454545453\n        ],\n        \"semantic_type\": \"\",\n        \"description\": \"\"\n      }\n    }\n  ]\n}"
            }
          },
          "metadata": {},
          "execution_count": 6
        }
      ]
    },
    {
      "cell_type": "markdown",
      "source": [
        "in the previous code block we suprisingly saw some queries that didn't have load_post_page action but had click_post action which cannot be happened, therefor I think we should drop columns with \"NaN\" in the  click_percentage column"
      ],
      "metadata": {
        "id": "2bXoBr4fdelO"
      }
    },
    {
      "cell_type": "code",
      "source": [
        "# answer 3_2\n",
        "first_click_index = clicks.groupby('device_id').first()\n",
        "first_click_index = first_click_index['post_index_in_post_list']\n",
        "first_click_index\n",
        "\n"
      ],
      "metadata": {
        "colab": {
          "base_uri": "https://localhost:8080/",
          "height": 489
        },
        "id": "mUgUoqeOeKdo",
        "outputId": "06ee005e-a8f3-417d-dc5b-e6eb710f0c5d"
      },
      "execution_count": 7,
      "outputs": [
        {
          "output_type": "execute_result",
          "data": {
            "text/plain": [
              "device_id\n",
              "-0CO6Hc_QiqH4T6IRnAkMw      1.0\n",
              "-0IGwculQbu66z8q_Vm9MA      3.0\n",
              "-1wIhljjS_yhOisAOhIdNA     47.0\n",
              "-2HNBT8SRiC3klN90eGvNQ      4.0\n",
              "-2Hh978WRIuDcnICSpbzjg     38.0\n",
              "                          ...  \n",
              "zsozTupGRlOefdBRLVoNKQ    142.0\n",
              "ztcsKyk4Tw-nw7Q8PIERsQ      1.0\n",
              "zwF_8nudT1aCBJpDmGtCWw      6.0\n",
              "zyiz3SbnRcSgRb89NgiQ2A      7.0\n",
              "zzfgAZsyTjOltwjV6AWcjg     26.0\n",
              "Name: post_index_in_post_list, Length: 4550, dtype: float64"
            ],
            "text/html": [
              "<div>\n",
              "<style scoped>\n",
              "    .dataframe tbody tr th:only-of-type {\n",
              "        vertical-align: middle;\n",
              "    }\n",
              "\n",
              "    .dataframe tbody tr th {\n",
              "        vertical-align: top;\n",
              "    }\n",
              "\n",
              "    .dataframe thead th {\n",
              "        text-align: right;\n",
              "    }\n",
              "</style>\n",
              "<table border=\"1\" class=\"dataframe\">\n",
              "  <thead>\n",
              "    <tr style=\"text-align: right;\">\n",
              "      <th></th>\n",
              "      <th>post_index_in_post_list</th>\n",
              "    </tr>\n",
              "    <tr>\n",
              "      <th>device_id</th>\n",
              "      <th></th>\n",
              "    </tr>\n",
              "  </thead>\n",
              "  <tbody>\n",
              "    <tr>\n",
              "      <th>-0CO6Hc_QiqH4T6IRnAkMw</th>\n",
              "      <td>1.0</td>\n",
              "    </tr>\n",
              "    <tr>\n",
              "      <th>-0IGwculQbu66z8q_Vm9MA</th>\n",
              "      <td>3.0</td>\n",
              "    </tr>\n",
              "    <tr>\n",
              "      <th>-1wIhljjS_yhOisAOhIdNA</th>\n",
              "      <td>47.0</td>\n",
              "    </tr>\n",
              "    <tr>\n",
              "      <th>-2HNBT8SRiC3klN90eGvNQ</th>\n",
              "      <td>4.0</td>\n",
              "    </tr>\n",
              "    <tr>\n",
              "      <th>-2Hh978WRIuDcnICSpbzjg</th>\n",
              "      <td>38.0</td>\n",
              "    </tr>\n",
              "    <tr>\n",
              "      <th>...</th>\n",
              "      <td>...</td>\n",
              "    </tr>\n",
              "    <tr>\n",
              "      <th>zsozTupGRlOefdBRLVoNKQ</th>\n",
              "      <td>142.0</td>\n",
              "    </tr>\n",
              "    <tr>\n",
              "      <th>ztcsKyk4Tw-nw7Q8PIERsQ</th>\n",
              "      <td>1.0</td>\n",
              "    </tr>\n",
              "    <tr>\n",
              "      <th>zwF_8nudT1aCBJpDmGtCWw</th>\n",
              "      <td>6.0</td>\n",
              "    </tr>\n",
              "    <tr>\n",
              "      <th>zyiz3SbnRcSgRb89NgiQ2A</th>\n",
              "      <td>7.0</td>\n",
              "    </tr>\n",
              "    <tr>\n",
              "      <th>zzfgAZsyTjOltwjV6AWcjg</th>\n",
              "      <td>26.0</td>\n",
              "    </tr>\n",
              "  </tbody>\n",
              "</table>\n",
              "<p>4550 rows × 1 columns</p>\n",
              "</div><br><label><b>dtype:</b> float64</label>"
            ]
          },
          "metadata": {},
          "execution_count": 7
        }
      ]
    },
    {
      "cell_type": "markdown",
      "source": [],
      "metadata": {
        "id": "xvu-0rrcp5zJ"
      }
    },
    {
      "cell_type": "code",
      "source": [
        "# answer 3-3\n",
        "grouped_df = clicks.groupby('device_id').agg({'post_index_in_post_list': list}).reset_index()\n",
        "grouped_df['post_index_in_post_list']\n",
        "def mean_distance(value_list):\n",
        "    if len(value_list) < 2:\n",
        "        return np.nan  # Return NaN if the list has less than 2 elements (no distance to compute)\n",
        "    value_list.sort()\n",
        "    distances = [value_list[i+1] - value_list[i] for i in range(len(value_list) - 1)]\n",
        "    distances.append(np.min(value_list))\n",
        "    return np.mean(distances)\n",
        "\n",
        "grouped_df['mean_distance'] = grouped_df['post_index_in_post_list'].apply(mean_distance)\n",
        "grouped_df.head()\n",
        "# grouped_df['mean_distance']"
      ],
      "metadata": {
        "colab": {
          "base_uri": "https://localhost:8080/",
          "height": 447
        },
        "id": "M24TLj9_0_Qw",
        "outputId": "9e097263-6567-4faf-a344-3aab14a5c17b"
      },
      "execution_count": 16,
      "outputs": [
        {
          "output_type": "execute_result",
          "data": {
            "text/plain": [
              "<Axes: >"
            ]
          },
          "metadata": {},
          "execution_count": 16
        },
        {
          "output_type": "display_data",
          "data": {
            "text/plain": [
              "<Figure size 640x480 with 1 Axes>"
            ],
            "image/png": "[encoded data removed]"
          },
          "metadata": {}
        }
      ]
    },
    {
      "source": [
        "# @title mean_distance\n",
        "\n",
        "from matplotlib import pyplot as plt\n",
        "grouped_df['mean_distance'].plot(kind='line', figsize=(8, 4), title='mean_distance')\n",
        "plt.gca().spines[['top', 'right']].set_visible(False)"
      ],
      "cell_type": "code",
      "execution_count": 13,
      "outputs": [
        {
          "output_type": "display_data",
          "data": {
            "text/plain": [
              "<Figure size 800x400 with 1 Axes>"
            ],
            "image/png": "[encoded data removed]"
          },
          "metadata": {}
        }
      ],
      "metadata": {
        "cellView": "form",
        "colab": {
          "base_uri": "https://localhost:8080/",
          "height": 391
        },
        "id": "m5D39cLwWAV5",
        "outputId": "9bf67c30-f586-4419-d120-02cbc7335a86"
      }
    },
    {
      "cell_type": "code",
      "source": [
        "# answer 3_4\n",
        "clicks['isin_first_3'] = clicks['post_index_in_post_list' ] < 4\n",
        "jk = clicks['isin_first_3'].transform(lambda x: 1 if   x == True  else  0)\n",
        "jk"
      ],
      "metadata": {
        "id": "pReIeJws2Es5",
        "colab": {
          "base_uri": "https://localhost:8080/",
          "height": 582
        },
        "outputId": "cf845845-a28a-4f69-b0d9-0116db3d02d5"
      },
      "execution_count": 37,
      "outputs": [
        {
          "output_type": "stream",
          "name": "stderr",
          "text": [
            "<ipython-input-37-8f7f74c2b79e>:2: SettingWithCopyWarning: \n",
            "A value is trying to be set on a copy of a slice from a DataFrame.\n",
            "Try using .loc[row_indexer,col_indexer] = value instead\n",
            "\n",
            "See the caveats in the documentation: https://pandas.pydata.org/pandas-docs/stable/user_guide/indexing.html#returning-a-view-versus-a-copy\n",
            "  clicks['isin_first_3'] = clicks['post_index_in_post_list' ] < 4\n"
          ]
        },
        {
          "output_type": "execute_result",
          "data": {
            "text/plain": [
              "5429      1\n",
              "5430      0\n",
              "5431      0\n",
              "5432      0\n",
              "5433      0\n",
              "         ..\n",
              "108842    0\n",
              "108843    0\n",
              "108844    0\n",
              "108845    0\n",
              "108846    0\n",
              "Name: isin_first_3, Length: 75796, dtype: int64"
            ],
            "text/html": [
              "<div>\n",
              "<style scoped>\n",
              "    .dataframe tbody tr th:only-of-type {\n",
              "        vertical-align: middle;\n",
              "    }\n",
              "\n",
              "    .dataframe tbody tr th {\n",
              "        vertical-align: top;\n",
              "    }\n",
              "\n",
              "    .dataframe thead th {\n",
              "        text-align: right;\n",
              "    }\n",
              "</style>\n",
              "<table border=\"1\" class=\"dataframe\">\n",
              "  <thead>\n",
              "    <tr style=\"text-align: right;\">\n",
              "      <th></th>\n",
              "      <th>isin_first_3</th>\n",
              "    </tr>\n",
              "  </thead>\n",
              "  <tbody>\n",
              "    <tr>\n",
              "      <th>5429</th>\n",
              "      <td>1</td>\n",
              "    </tr>\n",
              "    <tr>\n",
              "      <th>5430</th>\n",
              "      <td>0</td>\n",
              "    </tr>\n",
              "    <tr>\n",
              "      <th>5431</th>\n",
              "      <td>0</td>\n",
              "    </tr>\n",
              "    <tr>\n",
              "      <th>5432</th>\n",
              "      <td>0</td>\n",
              "    </tr>\n",
              "    <tr>\n",
              "      <th>5433</th>\n",
              "      <td>0</td>\n",
              "    </tr>\n",
              "    <tr>\n",
              "      <th>...</th>\n",
              "      <td>...</td>\n",
              "    </tr>\n",
              "    <tr>\n",
              "      <th>108842</th>\n",
              "      <td>0</td>\n",
              "    </tr>\n",
              "    <tr>\n",
              "      <th>108843</th>\n",
              "      <td>0</td>\n",
              "    </tr>\n",
              "    <tr>\n",
              "      <th>108844</th>\n",
              "      <td>0</td>\n",
              "    </tr>\n",
              "    <tr>\n",
              "      <th>108845</th>\n",
              "      <td>0</td>\n",
              "    </tr>\n",
              "    <tr>\n",
              "      <th>108846</th>\n",
              "      <td>0</td>\n",
              "    </tr>\n",
              "  </tbody>\n",
              "</table>\n",
              "<p>75796 rows × 1 columns</p>\n",
              "</div><br><label><b>dtype:</b> int64</label>"
            ]
          },
          "metadata": {},
          "execution_count": 37
        }
      ]
    },
    {
      "cell_type": "markdown",
      "source": [
        "answer 3-5 :\n",
        "\"click_percentage\" would be the best metric between those are asked in question \"3\" because it shows the popularity of an advertisement based on users history of clicking it. therefore we tend to calculate the mean of that metric in whole dataFrame in order to find out what \"click_percentage\" is good acutally."
      ],
      "metadata": {
        "id": "nEm9tqVKsoUI"
      }
    },
    {
      "cell_type": "code",
      "source": [
        "is_clicked['click_percentage'].mean()"
      ],
      "metadata": {
        "colab": {
          "base_uri": "https://localhost:8080/"
        },
        "id": "_rxox_qsUKQl",
        "outputId": "4019645b-9cb7-489b-dcf4-a4586037798c"
      },
      "execution_count": 10,
      "outputs": [
        {
          "output_type": "execute_result",
          "data": {
            "text/plain": [
              "9.491174670331816"
            ]
          },
          "metadata": {},
          "execution_count": 10
        }
      ]
    },
    {
      "cell_type": "markdown",
      "source": [
        "answer 4:yes, we can implement a model based on these 4 metric probably logistic regression or naive baysi Naive Bayes is the best to decide whether the next ads would be clicked or not using  metrics like \"click_percentage\" and \"post_index_in_post_list\"\n",
        "\n",
        "and about guessing approximately other metrics using one of them I'm not sure if we can, cuz we dont use linear reggression , acctually if we could ,me at this point couldn't say it surely."
      ],
      "metadata": {
        "id": "xl2pQQlaZQQE"
      }
    },
    {
      "cell_type": "code",
      "source": [],
      "metadata": {
        "id": "G6dgqdrXbU2Z"
      },
      "execution_count": null,
      "outputs": []
    }
  ],
  "metadata": {
    "colab": {
      "provenance": []
    },
    "kernelspec": {
      "display_name": "Python 3",
      "name": "python3"
    },
    "language_info": {
      "name": "python"
    }
  },
  "nbformat": 4,
  "nbformat_minor": 0
}